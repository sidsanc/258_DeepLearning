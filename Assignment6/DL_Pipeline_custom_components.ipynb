{
  "nbformat": 4,
  "nbformat_minor": 0,
  "metadata": {
    "colab": {
      "provenance": [],
      "authorship_tag": "ABX9TyP5iEqOfi070CSi5SAp/HVt",
      "include_colab_link": true
    },
    "kernelspec": {
      "name": "python3",
      "display_name": "Python 3"
    },
    "language_info": {
      "name": "python"
    }
  },
  "cells": [
    {
      "cell_type": "markdown",
      "metadata": {
        "id": "view-in-github",
        "colab_type": "text"
      },
      "source": [
        "<a href=\"https://colab.research.google.com/github/sidsanc/258_DeepLearningAssignment/blob/main/Assignment6/DL_Pipeline_custom_components.ipynb\" target=\"_parent\"><img src=\"https://colab.research.google.com/assets/colab-badge.svg\" alt=\"Open In Colab\"/></a>"
      ]
    },
    {
      "cell_type": "markdown",
      "source": [
        "# Custom"
      ],
      "metadata": {
        "id": "eaHHt4DQ5Uv8"
      }
    },
    {
      "cell_type": "code",
      "execution_count": 1,
      "metadata": {
        "id": "XKN7m7m9GTRC"
      },
      "outputs": [],
      "source": [
        "import tensorflow as tf\n",
        "from tensorflow.keras import layers, models\n",
        "import numpy as np\n",
        "import matplotlib.pyplot as plt\n"
      ]
    },
    {
      "cell_type": "markdown",
      "source": [
        "Load the MNIST dataset:"
      ],
      "metadata": {
        "id": "_xSbk4boSj-W"
      }
    },
    {
      "cell_type": "code",
      "source": [
        "(x_train, y_train), (x_test, y_test) = tf.keras.datasets.mnist.load_data()\n",
        "x_train = x_train.reshape(-1, 28, 28, 1).astype(\"float32\") / 255\n",
        "x_test = x_test.reshape(-1, 28, 28, 1).astype(\"float32\") / 255"
      ],
      "metadata": {
        "id": "u19lHt2DSjfU",
        "colab": {
          "base_uri": "https://localhost:8080/"
        },
        "outputId": "2b70fdad-87d6-456f-aa1a-f58ce0dd408a"
      },
      "execution_count": 2,
      "outputs": [
        {
          "output_type": "stream",
          "name": "stdout",
          "text": [
            "Downloading data from https://storage.googleapis.com/tensorflow/tf-keras-datasets/mnist.npz\n",
            "11490434/11490434 [==============================] - 0s 0us/step\n"
          ]
        }
      ]
    },
    {
      "cell_type": "markdown",
      "source": [
        "#Custom Loss Function"
      ],
      "metadata": {
        "id": "KYJwGpZRTDdW"
      }
    },
    {
      "cell_type": "code",
      "source": [
        "# Custom loss function\n",
        "def huber_loss(y_true, y_pred):\n",
        "  y_true = tf.cast(y_true, tf.float32)\n",
        "  error = y_true - y_pred\n",
        "  is_small_error = tf.abs(error) < 1\n",
        "  squared_loss = tf.square(error) / 2\n",
        "  linear_loss  = tf.abs(error) - 0.5\n",
        "  return tf.where(is_small_error, squared_loss, linear_loss)\n",
        "\n",
        "# Model with custom loss function\n",
        "model = models.Sequential([\n",
        "    layers.Conv2D(32, kernel_size=(3, 3), activation='relu', input_shape=(28, 28, 1)),\n",
        "    layers.MaxPooling2D(pool_size=(2, 2)),\n",
        "    layers.Conv2D(64, kernel_size=(3, 3), activation='relu'),\n",
        "    layers.MaxPooling2D(pool_size=(2, 2)),\n",
        "    layers.Flatten(),\n",
        "    layers.Dense(128, activation='relu'),\n",
        "    layers.Dropout(0.2),\n",
        "    layers.Dense(10, activation='softmax')\n",
        "])\n",
        "\n",
        "model.compile(optimizer='adam',\n",
        "              loss=huber_loss,\n",
        "              metrics=['accuracy'])\n",
        "\n",
        "model.fit(x_train, y_train, epochs=5, validation_split=0.1)\n"
      ],
      "metadata": {
        "colab": {
          "base_uri": "https://localhost:8080/"
        },
        "id": "Kcx8jGe6SqAw",
        "outputId": "16ab51e8-b105-40c1-c449-d2f24b550e4b"
      },
      "execution_count": 4,
      "outputs": [
        {
          "output_type": "stream",
          "name": "stdout",
          "text": [
            "Epoch 1/5\n",
            "1688/1688 [==============================] - 76s 43ms/step - loss: 3.9111 - accuracy: 0.0909 - val_loss: 3.9427 - val_accuracy: 0.0650\n",
            "Epoch 2/5\n",
            "1688/1688 [==============================] - 72s 43ms/step - loss: 3.9111 - accuracy: 0.0930 - val_loss: 3.9427 - val_accuracy: 0.0857\n",
            "Epoch 3/5\n",
            "1688/1688 [==============================] - 67s 39ms/step - loss: 3.9111 - accuracy: 0.0969 - val_loss: 3.9427 - val_accuracy: 0.1268\n",
            "Epoch 4/5\n",
            "1688/1688 [==============================] - 65s 39ms/step - loss: 3.9111 - accuracy: 0.0981 - val_loss: 3.9427 - val_accuracy: 0.0978\n",
            "Epoch 5/5\n",
            "1688/1688 [==============================] - 72s 42ms/step - loss: 3.9111 - accuracy: 0.0961 - val_loss: 3.9427 - val_accuracy: 0.1082\n"
          ]
        },
        {
          "output_type": "execute_result",
          "data": {
            "text/plain": [
              "<keras.callbacks.History at 0x7fa8562b1ba0>"
            ]
          },
          "metadata": {},
          "execution_count": 4
        }
      ]
    },
    {
      "cell_type": "markdown",
      "source": [
        "Custom Regularizer"
      ],
      "metadata": {
        "id": "W2AJAvnNXfnr"
      }
    },
    {
      "cell_type": "code",
      "source": [
        "# Custom regularizer\n",
        "class CustomRegularizer(tf.keras.regularizers.Regularizer):\n",
        "  def __init__(self, factor):\n",
        "      self.factor = factor\n",
        "\n",
        "  def __call__(self, weights):\n",
        "      return tf.reduce_sum(tf.abs(self.factor * weights))\n",
        "\n",
        "model = models.Sequential([\n",
        "    layers.Conv2D(32, kernel_size=(3, 3), activation='relu', input_shape=(28, 28, 1)),\n",
        "    layers.MaxPooling2D(pool_size=(2, 2)),\n",
        "    layers.Conv2D(64, kernel_size=(3, 3), activation='relu'),\n",
        "    layers.MaxPooling2D(pool_size=(2, 2)),\n",
        "    layers.Flatten(),\n",
        "    layers.Dense(128, activation='relu', kernel_regularizer=CustomRegularizer(0.001)),\n",
        "    layers.Dropout(0.2),\n",
        "    layers.Dense(10, activation='softmax')\n",
        "])\n",
        "\n",
        "model.compile(optimizer='adam',\n",
        "              loss=tf.keras.losses.SparseCategoricalCrossentropy(),\n",
        "              metrics=['accuracy'])\n",
        "\n",
        "model.fit(x_train, y_train, epochs=5, validation_split=0.1)\n"
      ],
      "metadata": {
        "colab": {
          "base_uri": "https://localhost:8080/"
        },
        "id": "ucJMqWtXXO2d",
        "outputId": "d0ee7291-d4c8-405b-8ccb-923e1284c670"
      },
      "execution_count": 5,
      "outputs": [
        {
          "metadata": {
            "tags": null
          },
          "name": "stdout",
          "output_type": "stream",
          "text": [
            "Epoch 1/5\n",
            "1688/1688 [==============================] - 66s 38ms/step - loss: 0.6964 - accuracy: 0.9248 - val_loss: 0.2825 - val_accuracy: 0.9777\n",
            "Epoch 2/5\n",
            "1688/1688 [==============================] - 65s 39ms/step - loss: 0.3250 - accuracy: 0.9622 - val_loss: 0.2552 - val_accuracy: 0.9805\n",
            "Epoch 3/5\n",
            "1688/1688 [==============================] - 66s 39ms/step - loss: 0.2850 - accuracy: 0.9674 - val_loss: 0.2352 - val_accuracy: 0.9818\n",
            "Epoch 4/5\n",
            "1688/1688 [==============================] - 62s 37ms/step - loss: 0.2665 - accuracy: 0.9694 - val_loss: 0.2400 - val_accuracy: 0.9757\n",
            "Epoch 5/5\n",
            "1688/1688 [==============================] - 62s 37ms/step - loss: 0.2557 - accuracy: 0.9706 - val_loss: 0.2286 - val_accuracy: 0.9790\n"
          ]
        },
        {
          "data": {
            "text/plain": [
              "<keras.callbacks.History at 0x7fa840d56ce0>"
            ]
          },
          "execution_count": 5,
          "metadata": {},
          "output_type": "execute_result"
        }
      ]
    },
    {
      "cell_type": "markdown",
      "source": [
        "Custom activation function"
      ],
      "metadata": {
        "id": "1i46MlX3Xs_Y"
      }
    },
    {
      "cell_type": "code",
      "source": [
        "# Custom activation function\n",
        "@tf.function\n",
        "def custom_activation(x):\n",
        "    return tf.maximum(0.0, x) * tf.sin(x)\n",
        "\n",
        "# Model with custom activation function\n",
        "model = models.Sequential([\n",
        "    layers.Conv2D(32, kernel_size=(3, 3), input_shape=(28, 28, 1)),\n",
        "    layers.Activation(custom_activation),\n",
        "    layers.MaxPooling2D(pool_size=(2, 2)),\n",
        "    layers.Conv2D(64, kernel_size=(3, 3)),\n",
        "    layers.Activation(custom_activation),\n",
        "    layers.MaxPooling2D(pool_size=(2, 2)),\n",
        "    layers.Flatten(),\n",
        "    layers.Dense(128),\n",
        "    layers.Activation(custom_activation),\n",
        "    layers.Dropout(0.2),\n",
        "    layers.Dense(10, activation='softmax')\n",
        "])\n",
        "\n",
        "model.compile(optimizer='adam',\n",
        "              loss=tf.keras.losses.SparseCategoricalCrossentropy(),\n",
        "              metrics=['accuracy'])\n",
        "\n",
        "model.fit(x_train, y_train, epochs=5, validation_split=0.1)\n"
      ],
      "metadata": {
        "colab": {
          "base_uri": "https://localhost:8080/"
        },
        "id": "yNl-Y_P4Xl8O",
        "outputId": "8038281c-fa0b-4c61-d1ac-e6b7f438da06"
      },
      "execution_count": 6,
      "outputs": [
        {
          "output_type": "stream",
          "name": "stdout",
          "text": [
            "Epoch 1/5\n",
            "1688/1688 [==============================] - 97s 57ms/step - loss: 0.1882 - accuracy: 0.9422 - val_loss: 0.0527 - val_accuracy: 0.9837\n",
            "Epoch 2/5\n",
            "1688/1688 [==============================] - 83s 49ms/step - loss: 0.0494 - accuracy: 0.9854 - val_loss: 0.0351 - val_accuracy: 0.9897\n",
            "Epoch 3/5\n",
            "1688/1688 [==============================] - 85s 50ms/step - loss: 0.0326 - accuracy: 0.9901 - val_loss: 0.0338 - val_accuracy: 0.9907\n",
            "Epoch 4/5\n",
            "1688/1688 [==============================] - 81s 48ms/step - loss: 0.0246 - accuracy: 0.9921 - val_loss: 0.0329 - val_accuracy: 0.9915\n",
            "Epoch 5/5\n",
            "1688/1688 [==============================] - 82s 49ms/step - loss: 0.0176 - accuracy: 0.9948 - val_loss: 0.0303 - val_accuracy: 0.9913\n"
          ]
        },
        {
          "output_type": "execute_result",
          "data": {
            "text/plain": [
              "<keras.callbacks.History at 0x7fa841e6f6a0>"
            ]
          },
          "metadata": {},
          "execution_count": 6
        }
      ]
    },
    {
      "cell_type": "markdown",
      "source": [
        "  Custom Initializer"
      ],
      "metadata": {
        "id": "qbB2SqCYegBe"
      }
    },
    {
      "cell_type": "code",
      "source": [
        "def glorot_initializer(shape, dtype=tf.float32):\n",
        "  stddev = tf.sqrt(2. / (shape[0] + shape[1]))\n",
        "  return tf.random.normal(shape, stddev=stddev, dtype=dtype)\n",
        "\n",
        "# Model with custom initializer\n",
        "model = models.Sequential([\n",
        "    layers.Conv2D(32, kernel_size=(3, 3), activation='relu', input_shape=(28, 28, 1), kernel_initializer=glorot_initializer),\n",
        "    layers.MaxPooling2D(pool_size=(2, 2)),\n",
        "    layers.Conv2D(64, kernel_size=(3, 3), activation='relu', kernel_initializer=glorot_initializer),\n",
        "    layers.MaxPooling2D(pool_size=(2, 2)),\n",
        "    layers.Flatten(),\n",
        "    layers.Dense(128, activation='relu', kernel_initializer=glorot_initializer),\n",
        "    layers.Dropout(0.2),\n",
        "    layers.Dense(10, activation='softmax')\n",
        "])\n",
        "\n",
        "model.compile(optimizer='adam',\n",
        "              loss=tf.keras.losses.SparseCategoricalCrossentropy(),\n",
        "              metrics=['accuracy'])\n",
        "\n",
        "model.fit(x_train, y_train, epochs=5, validation_split=0.1)\n"
      ],
      "metadata": {
        "colab": {
          "base_uri": "https://localhost:8080/"
        },
        "id": "Wa2ilzG2emra",
        "outputId": "2536d764-565f-41cb-bd34-aa4e184d7368"
      },
      "execution_count": 7,
      "outputs": [
        {
          "output_type": "stream",
          "name": "stdout",
          "text": [
            "Epoch 1/5\n",
            "1688/1688 [==============================] - 65s 38ms/step - loss: 0.2984 - accuracy: 0.9164 - val_loss: 0.0750 - val_accuracy: 0.9775\n",
            "Epoch 2/5\n",
            "1688/1688 [==============================] - 64s 38ms/step - loss: 0.0948 - accuracy: 0.9717 - val_loss: 0.0574 - val_accuracy: 0.9850\n",
            "Epoch 3/5\n",
            "1688/1688 [==============================] - 63s 37ms/step - loss: 0.0647 - accuracy: 0.9806 - val_loss: 0.0617 - val_accuracy: 0.9832\n",
            "Epoch 4/5\n",
            "1688/1688 [==============================] - 63s 37ms/step - loss: 0.0472 - accuracy: 0.9854 - val_loss: 0.0391 - val_accuracy: 0.9887\n",
            "Epoch 5/5\n",
            "1688/1688 [==============================] - 63s 37ms/step - loss: 0.0373 - accuracy: 0.9882 - val_loss: 0.0467 - val_accuracy: 0.9885\n"
          ]
        },
        {
          "output_type": "execute_result",
          "data": {
            "text/plain": [
              "<keras.callbacks.History at 0x7fa842669ed0>"
            ]
          },
          "metadata": {},
          "execution_count": 7
        }
      ]
    },
    {
      "cell_type": "markdown",
      "source": [
        "Custom kernel constraint"
      ],
      "metadata": {
        "id": "9UooxNqEex40"
      }
    },
    {
      "cell_type": "code",
      "source": [
        "def CustomConstraint(weights):\n",
        "  return tf.where(weights < 0., tf.zeros_like(weights), weights)\n",
        "\n",
        "# Model with custom kernel constraint\n",
        "model = models.Sequential([\n",
        "    layers.Conv2D(32, kernel_size=(3, 3), activation='relu', input_shape=(28, 28, 1), kernel_constraint=CustomConstraint()),\n",
        "    layers.MaxPooling2D(pool_size=(2, 2)),\n",
        "    layers.Conv2D(64, kernel_size=(3, 3), activation='relu', kernel_constraint=CustomConstraint()),\n",
        "    layers.MaxPooling2D(pool_size=(2, 2)),\n",
        "    layers.Flatten(),\n",
        "    layers.Dense(128, activation='relu', kernel_constraint=CustomConstraint()),\n",
        "    layers.Dropout(0.2),\n",
        "    layers.Dense(10, activation='softmax')\n",
        "])\n",
        "\n",
        "model.compile(optimizer='adam',\n",
        "              loss=tf.keras.losses.SparseCategoricalCrossentropy(),\n",
        "              metrics=['accuracy'])\n",
        "\n",
        "model.fit(x_train, y_train, epochs=5, validation_split=0.1)\n"
      ],
      "metadata": {
        "colab": {
          "base_uri": "https://localhost:8080/"
        },
        "id": "X_lDWiHdeyR3",
        "outputId": "620d09b2-95f9-409a-9d8d-4c2208f8ccdb"
      },
      "execution_count": 8,
      "outputs": [
        {
          "output_type": "stream",
          "name": "stdout",
          "text": [
            "Epoch 1/5\n",
            "1688/1688 [==============================] - 65s 38ms/step - loss: 0.1571 - accuracy: 0.9515 - val_loss: 0.0484 - val_accuracy: 0.9850\n",
            "Epoch 2/5\n",
            "1688/1688 [==============================] - 62s 37ms/step - loss: 0.0522 - accuracy: 0.9836 - val_loss: 0.0373 - val_accuracy: 0.9888\n",
            "Epoch 3/5\n",
            "1688/1688 [==============================] - 61s 36ms/step - loss: 0.0372 - accuracy: 0.9879 - val_loss: 0.0300 - val_accuracy: 0.9908\n",
            "Epoch 4/5\n",
            "1688/1688 [==============================] - 62s 37ms/step - loss: 0.0289 - accuracy: 0.9914 - val_loss: 0.0287 - val_accuracy: 0.9925\n",
            "Epoch 5/5\n",
            "1688/1688 [==============================] - 62s 37ms/step - loss: 0.0226 - accuracy: 0.9928 - val_loss: 0.0364 - val_accuracy: 0.9900\n"
          ]
        },
        {
          "output_type": "execute_result",
          "data": {
            "text/plain": [
              "<keras.callbacks.History at 0x7fa8424dd030>"
            ]
          },
          "metadata": {},
          "execution_count": 8
        }
      ]
    },
    {
      "cell_type": "markdown",
      "source": [
        "Custom Metrics"
      ],
      "metadata": {
        "id": "6NY8JaTue7K2"
      }
    },
    {
      "cell_type": "code",
      "source": [
        "class CustomAccuracy(tf.keras.metrics.Metric):\n",
        "    def __init__(self, name=\"custom_accuracy\", **kwargs):\n",
        "        super(CustomAccuracy, self).__init__(name=name, **kwargs)\n",
        "        self.correct = self.add_weight(name=\"correct\", initializer=\"zeros\")\n",
        "        self.total = self.add_weight(name=\"total\", initializer=\"zeros\")\n",
        "\n",
        "    def update_state(self, y_true, y_pred, sample_weight=None):\n",
        "        y_true = tf.argmax(y_true, axis=-1)\n",
        "        y_pred = tf.argmax(y_pred, axis=-1)\n",
        "        self.correct.assign_add(tf.reduce_sum(tf.cast(y_true == y_pred, tf.float32)))\n",
        "        self.total.assign_add(tf.cast(tf.size(y_true), tf.float32))\n",
        "\n",
        "    def result(self):\n",
        "        return self.correct / self.total\n",
        "\n",
        "# Model with custom metrics\n",
        "model = models.Sequential([\n",
        "    layers.Conv2D(32, kernel_size=(3, 3), activation='relu', input_shape=(28, 28, 1)),\n",
        "    layers.MaxPooling2D(pool_size=(2, 2)),\n",
        "    layers.Conv2D(64, kernel_size=(3, 3), activation='relu'),\n",
        "    layers.MaxPooling2D(pool_size=(2, 2)),\n",
        "    layers.Flatten(),\n",
        "    layers.Dense(128, activation='relu'),\n",
        "    layers.Dropout(0.2),\n",
        "    layers.Dense(10, activation='softmax')\n",
        "])\n",
        "\n",
        "model.compile(optimizer='adam',\n",
        "              loss=tf.keras.losses.SparseCategoricalCrossentropy(),\n",
        "              metrics=[CustomAccuracy()])\n",
        "\n",
        "model.fit(x_train, y_train, epochs=5, validation_split=0.1)\n"
      ],
      "metadata": {
        "colab": {
          "base_uri": "https://localhost:8080/"
        },
        "id": "0No3oXYQe7on",
        "outputId": "6b9ee880-c5b8-4df6-8229-35f657eed793"
      },
      "execution_count": null,
      "outputs": [
        {
          "output_type": "stream",
          "name": "stdout",
          "text": [
            "Epoch 1/5\n",
            "1688/1688 [==============================] - 59s 35ms/step - loss: 0.1588 - custom_accuracy: 0.0984 - val_loss: 0.0439 - val_custom_accuracy: 0.0967\n",
            "Epoch 2/5\n",
            "1688/1688 [==============================] - 57s 34ms/step - loss: 0.0524 - custom_accuracy: 0.0990 - val_loss: 0.0350 - val_custom_accuracy: 0.0975\n",
            "Epoch 3/5\n",
            "1688/1688 [==============================] - 56s 33ms/step - loss: 0.0376 - custom_accuracy: 0.0990 - val_loss: 0.0340 - val_custom_accuracy: 0.0972\n",
            "Epoch 4/5\n",
            "1688/1688 [==============================] - 55s 32ms/step - loss: 0.0287 - custom_accuracy: 0.0989 - val_loss: 0.0340 - val_custom_accuracy: 0.0968\n",
            "Epoch 5/5\n",
            "1688/1688 [==============================] - 58s 34ms/step - loss: 0.0228 - custom_accuracy: 0.0988 - val_loss: 0.0311 - val_custom_accuracy: 0.0975\n"
          ]
        },
        {
          "output_type": "execute_result",
          "data": {
            "text/plain": [
              "<keras.callbacks.History at 0x7fda7c7c52d0>"
            ]
          },
          "metadata": {},
          "execution_count": 16
        }
      ]
    },
    {
      "cell_type": "markdown",
      "source": [
        "Custom Seed"
      ],
      "metadata": {
        "id": "kXLKVAkbfSRv"
      }
    },
    {
      "cell_type": "code",
      "source": [
        "from tensorflow.keras import layers, models\n",
        "\n",
        "# Set the custom seed\n",
        "custom_seed = 42\n",
        "np.random.seed(custom_seed)\n",
        "tf.random.set_seed(custom_seed)\n",
        "\n",
        "# Model\n",
        "model = models.Sequential([\n",
        "    layers.Conv2D(32, kernel_size=(3, 3), activation='relu', input_shape=(28, 28, 1)),\n",
        "    layers.MaxPooling2D(pool_size=(2, 2)),\n",
        "    layers.Conv2D(64, kernel_size=(3, 3), activation='relu'),\n",
        "    layers.MaxPooling2D(pool_size=(2, 2)),\n",
        "    layers.Flatten(),\n",
        "    layers.Dense(128, activation='relu'),\n",
        "    layers.Dropout(0.2),\n",
        "    layers.Dense(10, activation='softmax')\n",
        "])\n",
        "\n",
        "model.compile(optimizer='adam',\n",
        "              loss=tf.keras.losses.SparseCategoricalCrossentropy(),\n",
        "              metrics=['accuracy'])\n",
        "\n",
        "model.fit(x_train, y_train, epochs=5, validation_split=0.1)\n"
      ],
      "metadata": {
        "colab": {
          "base_uri": "https://localhost:8080/"
        },
        "id": "hY7DzedffT28",
        "outputId": "6bf40056-1a97-4372-fddd-7b49405472ca"
      },
      "execution_count": null,
      "outputs": [
        {
          "output_type": "stream",
          "name": "stdout",
          "text": [
            "Epoch 1/5\n",
            "1688/1688 [==============================] - 58s 34ms/step - loss: 0.1523 - accuracy: 0.9524 - val_loss: 0.0511 - val_accuracy: 0.9857\n",
            "Epoch 2/5\n",
            "1688/1688 [==============================] - 57s 34ms/step - loss: 0.0539 - accuracy: 0.9834 - val_loss: 0.0428 - val_accuracy: 0.9870\n",
            "Epoch 3/5\n",
            "1688/1688 [==============================] - 55s 33ms/step - loss: 0.0375 - accuracy: 0.9882 - val_loss: 0.0294 - val_accuracy: 0.9915\n",
            "Epoch 4/5\n",
            "1688/1688 [==============================] - 56s 33ms/step - loss: 0.0276 - accuracy: 0.9912 - val_loss: 0.0339 - val_accuracy: 0.9907\n",
            "Epoch 5/5\n",
            "1688/1688 [==============================] - 57s 34ms/step - loss: 0.0222 - accuracy: 0.9926 - val_loss: 0.0320 - val_accuracy: 0.9907\n"
          ]
        },
        {
          "output_type": "execute_result",
          "data": {
            "text/plain": [
              "<keras.callbacks.History at 0x7fda7c7c6530>"
            ]
          },
          "metadata": {},
          "execution_count": 17
        }
      ]
    },
    {
      "cell_type": "markdown",
      "source": [
        "Custom Call Back"
      ],
      "metadata": {
        "id": "lBwJW7ZSfahS"
      }
    },
    {
      "cell_type": "code",
      "source": [
        "class CustomCallback(tf.keras.callbacks.Callback):\n",
        "    def on_epoch_end(self, epoch, logs=None):\n",
        "        if logs.get('accuracy') > 0.95:\n",
        "            print(\"\\nReached 95% accuracy, stopping training.\")\n",
        "            self.model.stop_training = True\n",
        "\n",
        "# Model with custom callback\n",
        "model = models.Sequential([\n",
        "    layers.Conv2D(32, kernel_size=(3, 3), activation='relu', input_shape=(28, 28, 1)),\n",
        "    layers.MaxPooling2D(pool_size=(2, 2)),\n",
        "    layers.Conv2D(64, kernel_size=(3, 3), activation='relu'),\n",
        "    layers.MaxPooling2D(pool_size=(2, 2)),\n",
        "    layers.Flatten(),\n",
        "    layers.Dense(128, activation='relu'),\n",
        "    layers.Dropout(0.2),\n",
        "    layers.Dense(10, activation='softmax')\n",
        "])\n",
        "\n",
        "model.compile(optimizer='adam',\n",
        "              loss=tf.keras.losses.SparseCategoricalCrossentropy(),\n",
        "              metrics=['accuracy'])\n",
        "\n",
        "model.fit(x_train, y_train, epochs=5, validation_split=0.1, callbacks=[CustomCallback()])\n"
      ],
      "metadata": {
        "id": "u2aceSG2fbGl"
      },
      "execution_count": null,
      "outputs": []
    },
    {
      "cell_type": "markdown",
      "source": [
        "Custom Layer"
      ],
      "metadata": {
        "id": "4NlgIf-Qhpad"
      }
    },
    {
      "cell_type": "code",
      "source": [
        "class CustomLayer(layers.Layer):\n",
        "    def __init__(self, units=32, **kwargs):\n",
        "        super(CustomLayer, self).__init__(**kwargs)\n",
        "        self.units = units\n",
        "\n",
        "    def build(self, input_shape):\n",
        "        self.w = self.add_weight(shape=(input_shape[-1], self.units),\n",
        "                                 initializer='random_normal',\n",
        "                                 trainable=True)\n",
        "        self.b = self.add_weight(shape=(self.units,),\n",
        "                                 initializer='zeros',\n",
        "                                 trainable=True)\n",
        "\n",
        "    def call(self, inputs):\n",
        "        return tf.matmul(inputs, self.w) + self.b\n",
        "\n",
        "# Model with custom layer\n",
        "model = models.Sequential([\n",
        "    layers.Conv2D(32, kernel_size=(3, 3), activation='relu', input_shape=(28, 28, 1)),\n",
        "    layers.MaxPooling2D(pool_size=(2, 2)),\n",
        "    layers.Conv2D(64, kernel_size=(3, 3), activation='relu'),\n",
        "    layers.MaxPooling2D(pool_size=(2, 2)),\n",
        "    layers.Flatten(),\n",
        "    CustomLayer(128),\n",
        "    layers.Activation('relu'),\n",
        "    layers.Dropout(0.2),\n",
        "    layers.Dense(10, activation='softmax')\n",
        "])\n",
        "\n",
        "model.compile(optimizer='adam',\n",
        "              loss=tf.keras.losses.SparseCategoricalCrossentropy(),\n",
        "              metrics=['accuracy'])\n",
        "\n",
        "model.fit(x_train, y_train, epochs=5, validation_split=0.1)\n"
      ],
      "metadata": {
        "id": "J9U1OuFRhp-G"
      },
      "execution_count": null,
      "outputs": []
    },
    {
      "cell_type": "markdown",
      "source": [
        "Custom Model"
      ],
      "metadata": {
        "id": "M-HQSJP-h6Iu"
      }
    },
    {
      "cell_type": "code",
      "source": [
        "class CustomModel(models.Model):\n",
        "    def __init__(self):\n",
        "        super(CustomModel, self).__init__()\n",
        "        self.conv1 = layers.Conv2D(32, kernel_size=(3, 3), activation='relu')\n",
        "        self.max_pool1 = layers.MaxPooling2D(pool_size=(2, 2))\n",
        "        self.conv2 = layers.Conv2D(64, kernel_size=(3, 3), activation='relu')\n",
        "        self.max_pool2 = layers.MaxPooling2D(pool_size=(2, 2))\n",
        "        self.flatten = layers.Flatten()\n",
        "        self.dense1 = layers.Dense(128, activation='relu')\n",
        "        self.dropout = layers.Dropout(0.2)\n",
        "        self.dense2 = layers.Dense(10, activation='softmax')\n",
        "\n",
        "    def call(self, inputs):\n",
        "        x = self.conv1(inputs)\n",
        "        x = self.max_pool1(x)\n",
        "        x = self.conv2(x)\n",
        "        x = self.max_pool2(x)\n",
        "        x = self.flatten(x)\n",
        "        x = self.dense1(x)\n",
        "        x = self.dropout(x)\n",
        "        return self.dense2(x)\n",
        "\n",
        "# Model with custom model\n",
        "model = CustomModel()\n",
        "\n",
        "model.compile(optimizer='adam',\n",
        "              loss=tf.keras.losses.SparseCategoricalCrossentropy(),\n",
        "              metrics=['accuracy'])\n",
        "\n",
        "model.fit(x_train, y_train, epochs=5, validation_split=0.1)\n"
      ],
      "metadata": {
        "id": "NZjUpwfyh4Cc"
      },
      "execution_count": null,
      "outputs": []
    },
    {
      "cell_type": "markdown",
      "source": [
        "Custom Training Loop"
      ],
      "metadata": {
        "id": "A2uA1pM7iK95"
      }
    },
    {
      "cell_type": "code",
      "source": [
        "# Model\n",
        "model = models.Sequential([\n",
        "    layers.Conv2D(32, kernel_size=(3, 3), activation='relu', input_shape=(28, 28, 1)),\n",
        "    layers.MaxPooling2D(pool_size=(2, 2)),\n",
        "    layers.Conv2D(64, kernel_size=(3, 3), activation='relu'),\n",
        "    layers.MaxPooling2D(pool_size=(2, 2)),\n",
        "    layers.Flatten(),\n",
        "    layers.Dense(128, activation='relu'),\n",
        "    layers.Dropout(0.2),\n",
        "    layers.Dense(10, activation='softmax')\n",
        "])\n",
        "\n",
        "loss_fn = tf.keras.losses.SparseCategoricalCrossentropy()\n",
        "optimizer = tf.keras.optimizers.Adam()\n",
        "\n",
        "# Custom training loop\n",
        "@tf.function\n",
        "def train_step(images, labels):\n",
        "    with tf.GradientTape() as tape:\n",
        "        predictions = model(images)\n",
        "        loss = loss_fn(labels, predictions)\n",
        "    gradients = tape.gradient(loss, model.trainable_variables)\n",
        "    optimizer.apply_gradients(zip(gradients, model.trainable_variables))\n",
        "    return loss\n",
        "\n",
        "train_dataset = tf.data.Dataset.from_tensor_slices((x_train, y_train)).shuffle(10000).batch(32)\n",
        "\n",
        "for epoch in range(5):\n",
        "    for step, (images, labels) in enumerate(train_dataset):\n",
        "        loss = train_step(images, labels)\n",
        "        if step % 100 == 0:\n",
        "            print(f\"Epoch {epoch + 1}, Step {step}, Loss {loss.numpy()}\")\n"
      ],
      "metadata": {
        "id": "WqZrzlcpiJvy"
      },
      "execution_count": null,
      "outputs": []
    },
    {
      "cell_type": "markdown",
      "source": [
        "Custom Dropout"
      ],
      "metadata": {
        "id": "jQwqjyFPihVD"
      }
    },
    {
      "cell_type": "code",
      "source": [
        "class CustomDropout(layers.Layer):\n",
        "    def __init__(self, rate=0.2, **kwargs):\n",
        "        super(CustomDropout, self).__init__(**kwargs)\n",
        "        self.rate = rate\n",
        "\n",
        "    def call(self, inputs, training=None):\n",
        "        if training:\n",
        "            return tf.nn.dropout(inputs, rate=self.rate)\n",
        "        return inputs\n",
        "\n",
        "# Model with custom dropout\n",
        "model = models.Sequential([\n",
        "    layers.Conv2D(32, kernel_size=(3, 3), activation='relu', input_shape=(28, 28, 1)),\n",
        "    layers.MaxPooling2D(pool_size=(2, 2)),\n",
        "    layers.Conv2D(64, kernel_size=(3, 3), activation='relu'),\n",
        "    layers.MaxPooling2D(pool_size=(2, 2)),\n",
        "    layers.Flatten(),\n",
        "    layers.Dense(128, activation='relu'),\n",
        "    CustomDropout(0.2),\n",
        "    layers.Dense(10, activation='softmax')\n",
        "])\n",
        "\n",
        "model.compile(optimizer='adam',\n",
        "              loss=tf.keras.losses.SparseCategoricalCrossentropy(),\n",
        "              metrics=['accuracy'])\n",
        "\n",
        "model.fit(x_train, y_train, epochs=5, validation_split=0.1)\n"
      ],
      "metadata": {
        "id": "GztAeCsMikA8"
      },
      "execution_count": null,
      "outputs": []
    },
    {
      "cell_type": "markdown",
      "source": [
        "Custom Learning Rate Scheduler"
      ],
      "metadata": {
        "id": "OvS-wT4lZOKg"
      }
    },
    {
      "cell_type": "code",
      "source": [
        "def custom_learning_rate_schedule(epoch, lr):\n",
        "    if epoch % 10 == 0 and epoch > 0:\n",
        "        return lr * 0.1\n",
        "    return lr\n",
        "\n",
        "# Model with custom learning rate scheduler\n",
        "model = models.Sequential([\n",
        "    layers.Conv2D(32, kernel_size=(3, 3), activation='relu', input_shape=(28, 28, 1)),\n",
        "    layers.MaxPooling2D(pool_size=(2, 2)),\n",
        "    layers.Conv2D(64, kernel_size=(3, 3), activation='relu'),\n",
        "    layers.MaxPooling2D(pool_size=(2, 2)),\n",
        "    layers.Flatten(),\n",
        "    layers.Dense(128, activation='relu'),\n",
        "    layers.Dropout(0.2),\n",
        "    layers.Dense(10, activation='softmax')\n",
        "])\n",
        "\n",
        "model.compile(optimizer='adam',\n",
        "              loss=tf.keras.losses.SparseCategoricalCrossentropy(),\n",
        "              metrics=['accuracy'])\n",
        "\n",
        "callback = tf.keras.callbacks.LearningRateScheduler(custom_learning_rate_schedule)\n",
        "\n",
        "model.fit(x_train, y_train, epochs=5, validation_split=0.1, callbacks=[callback])\n"
      ],
      "metadata": {
        "colab": {
          "base_uri": "https://localhost:8080/"
        },
        "id": "ovXxC3djXmSJ",
        "outputId": "17152296-6ae2-49a1-ca65-ba31eb3b2c08"
      },
      "execution_count": null,
      "outputs": [
        {
          "output_type": "stream",
          "name": "stdout",
          "text": [
            "Epoch 1/5\n",
            "1688/1688 [==============================] - 62s 36ms/step - loss: 0.1579 - accuracy: 0.9515 - val_loss: 0.0508 - val_accuracy: 0.9835 - lr: 0.0010\n",
            "Epoch 2/5\n",
            "1688/1688 [==============================] - 57s 34ms/step - loss: 0.0535 - accuracy: 0.9839 - val_loss: 0.0405 - val_accuracy: 0.9888 - lr: 0.0010\n",
            "Epoch 3/5\n",
            "1688/1688 [==============================] - 56s 33ms/step - loss: 0.0369 - accuracy: 0.9884 - val_loss: 0.0334 - val_accuracy: 0.9900 - lr: 0.0010\n",
            "Epoch 4/5\n",
            "1688/1688 [==============================] - 57s 34ms/step - loss: 0.0270 - accuracy: 0.9916 - val_loss: 0.0376 - val_accuracy: 0.9898 - lr: 0.0010\n",
            "Epoch 5/5\n",
            "1688/1688 [==============================] - 58s 34ms/step - loss: 0.0224 - accuracy: 0.9930 - val_loss: 0.0330 - val_accuracy: 0.9913 - lr: 0.0010\n"
          ]
        },
        {
          "output_type": "execute_result",
          "data": {
            "text/plain": [
              "<keras.callbacks.History at 0x7fda641d35e0>"
            ]
          },
          "metadata": {},
          "execution_count": 13
        }
      ]
    }
  ]
}