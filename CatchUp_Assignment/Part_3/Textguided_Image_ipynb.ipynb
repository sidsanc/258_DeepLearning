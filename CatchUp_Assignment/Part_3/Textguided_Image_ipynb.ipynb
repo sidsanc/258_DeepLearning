{
  "nbformat": 4,
  "nbformat_minor": 0,
  "metadata": {
    "colab": {
      "provenance": [],
      "authorship_tag": "ABX9TyOLD7u+7a+V2EbHpIqmtZOz",
      "include_colab_link": true
    },
    "kernelspec": {
      "name": "python3",
      "display_name": "Python 3"
    },
    "language_info": {
      "name": "python"
    }
  },
  "cells": [
    {
      "cell_type": "markdown",
      "metadata": {
        "id": "view-in-github",
        "colab_type": "text"
      },
      "source": [
        "<a href=\"https://colab.research.google.com/github/sidsanc/258_DeepLearning/blob/main/CatchUp_Assignment/Part_3/Textguided_Image_ipynb.ipynb\" target=\"_parent\"><img src=\"https://colab.research.google.com/assets/colab-badge.svg\" alt=\"Open In Colab\"/></a>"
      ]
    },
    {
      "cell_type": "markdown",
      "metadata": {
        "id": "mUyRG4n0nfnv"
      },
      "source": [
        "# Text-guided image-inpainting"
      ]
    },
    {
      "cell_type": "code",
      "execution_count": null,
      "metadata": {
        "id": "JFF-1Tmjnfn4"
      },
      "outputs": [],
      "source": [
        "import PIL\n",
        "import requests\n",
        "import torch\n",
        "from io import BytesIO\n",
        "\n",
        "from diffusers import StableDiffusionInpaintPipeline\n",
        "\n",
        "pipeline = StableDiffusionInpaintPipeline.from_pretrained(\n",
        "    \"runwayml/stable-diffusion-inpainting\",\n",
        "    torch_dtype=torch.float16,\n",
        ")\n",
        "pipeline = pipeline.to(\"cuda\")"
      ]
    },
    {
      "cell_type": "markdown",
      "metadata": {
        "id": "FtNceM9Bnfn7"
      },
      "source": [
        "Download an image and a mask of a dog which you'll eventually replace:"
      ]
    },
    {
      "cell_type": "code",
      "execution_count": null,
      "metadata": {
        "id": "BmS_wYKCnfn7"
      },
      "outputs": [],
      "source": [
        "def download_image(url):\n",
        "    response = requests.get(url)\n",
        "    return PIL.Image.open(BytesIO(response.content)).convert(\"RGB\")\n",
        "\n",
        "\n",
        "img_url = \"https://raw.githubusercontent.com/CompVis/latent-diffusion/main/data/inpainting_examples/overture-creations-5sI6fQgYIuo.png\"\n",
        "mask_url = \"https://raw.githubusercontent.com/CompVis/latent-diffusion/main/data/inpainting_examples/overture-creations-5sI6fQgYIuo_mask.png\"\n",
        "\n",
        "init_image = download_image(img_url).resize((512, 512))\n",
        "mask_image = download_image(mask_url).resize((512, 512))"
      ]
    },
    {
      "cell_type": "markdown",
      "metadata": {
        "id": "T9TX263Ynfn8"
      },
      "source": [
        "Now you can create a prompt to replace the mask with something else:"
      ]
    },
    {
      "cell_type": "code",
      "execution_count": null,
      "metadata": {
        "id": "n9-2DLPqnfn8"
      },
      "outputs": [],
      "source": [
        "prompt = \"Face of a yellow cat, high resolution, sitting on a park bench\"\n",
        "image = pipeline(prompt=prompt, image=init_image, mask_image=mask_image).images[0]"
      ]
    },
    {
      "cell_type": "markdown",
      "metadata": {
        "id": "xeqnUCtinfn9"
      },
      "source": [
        "`image`          | `mask_image` | `prompt` | output |\n",
        ":-------------------------:|:-------------------------:|:-------------------------:|-------------------------:|\n",
        "<img src=\"https://raw.githubusercontent.com/CompVis/latent-diffusion/main/data/inpainting_examples/overture-creations-5sI6fQgYIuo.png\" alt=\"drawing\" width=\"250\"/> | <img src=\"https://raw.githubusercontent.com/CompVis/latent-diffusion/main/data/inpainting_examples/overture-creations-5sI6fQgYIuo_mask.png\" alt=\"drawing\" width=\"250\"/> | ***Face of a yellow cat, high resolution, sitting on a park bench*** | <img src=\"https://huggingface.co/datasets/hf-internal-testing/diffusers-images/resolve/main/in_paint/yellow_cat_sitting_on_a_park_bench.png\" alt=\"drawing\" width=\"250\"/> |\n",
        "\n",
        "\n",
        "<Tip warning={true}>\n",
        "\n",
        "A previous experimental implementation of inpainting used a different, lower-quality process. To ensure backwards compatibility, loading a pretrained pipeline that doesn't contain the new model will still apply the old inpainting method.\n",
        "\n",
        "</Tip>\n",
        "\n",
        "Check out the Spaces below to try out image inpainting yourself!\n",
        "\n",
        "<iframe\n",
        "\tsrc=\"https://runwayml-stable-diffusion-inpainting.hf.space\"\n",
        "\tframeborder=\"0\"\n",
        "\twidth=\"850\"\n",
        "\theight=\"500\"\n",
        "></iframe>"
      ]
    }
  ]
}