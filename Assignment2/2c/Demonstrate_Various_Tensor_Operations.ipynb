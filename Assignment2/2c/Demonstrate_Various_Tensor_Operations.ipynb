{
  "nbformat": 4,
  "nbformat_minor": 0,
  "metadata": {
    "colab": {
      "provenance": []
    },
    "kernelspec": {
      "name": "python3",
      "display_name": "Python 3"
    },
    "language_info": {
      "name": "python"
    }
  },
  "cells": [
    {
      "cell_type": "markdown",
      "source": [
        "# Implementing Various Operations and Algorithms using Tensorflow and Pytorch"
      ],
      "metadata": {
        "id": "06Xw_A7Fad3N"
      }
    },
    {
      "cell_type": "code",
      "source": [
        "import numpy as np\n",
        "import tensorflow as tf\n",
        "import tensorflow.keras.backend as K\n",
        "import torch"
      ],
      "metadata": {
        "id": "MHSSBlLFdYfM"
      },
      "execution_count": null,
      "outputs": []
    },
    {
      "cell_type": "markdown",
      "source": [
        "## Broadcasting "
      ],
      "metadata": {
        "id": "3avUMv1VmFVt"
      }
    },
    {
      "cell_type": "code",
      "source": [
        "x = tf.constant([1,2,3,4])\n",
        "y = tf.broadcast_to(x, [4,4])\n",
        "print(K.eval(x))\n",
        "print('Brodcasted to 4 * 4')\n",
        "print(K.eval(y))"
      ],
      "metadata": {
        "colab": {
          "base_uri": "https://localhost:8080/"
        },
        "id": "I-BV9NW7l6iO",
        "outputId": "021af985-b0b0-4874-ddbd-f5fcd45b60b0"
      },
      "execution_count": null,
      "outputs": [
        {
          "output_type": "stream",
          "name": "stdout",
          "text": [
            "[1 2 3 4]\n",
            "Brodcasted to 4 * 4\n",
            "[[1 2 3 4]\n",
            " [1 2 3 4]\n",
            " [1 2 3 4]\n",
            " [1 2 3 4]]\n"
          ]
        }
      ]
    },
    {
      "cell_type": "code",
      "source": [
        "print(K.eval(tf.broadcast_to(tf.constant([1, 2, 3]), [3, 3])))"
      ],
      "metadata": {
        "colab": {
          "base_uri": "https://localhost:8080/"
        },
        "id": "7SO4TsiRnRbG",
        "outputId": "09aa4e28-a29d-4f50-a6d5-26ced7b8bf3b"
      },
      "execution_count": null,
      "outputs": [
        {
          "output_type": "stream",
          "name": "stdout",
          "text": [
            "[[1 2 3]\n",
            " [1 2 3]\n",
            " [1 2 3]]\n"
          ]
        }
      ]
    },
    {
      "cell_type": "markdown",
      "source": [
        "##String Tensors"
      ],
      "metadata": {
        "id": "lEoJxeE1mMGb"
      }
    },
    {
      "cell_type": "code",
      "source": [
        "string_tensor = tf.constant(['This is', 'a', 'String Tensor'])\n",
        "print(K.eval(string_tensor))"
      ],
      "metadata": {
        "colab": {
          "base_uri": "https://localhost:8080/"
        },
        "id": "iN0j8MMMdYcM",
        "outputId": "258e1b23-ab2e-4987-9608-5563ab3163d8"
      },
      "execution_count": null,
      "outputs": [
        {
          "output_type": "stream",
          "name": "stdout",
          "text": [
            "[b'This is' b'a' b'String Tensor']\n"
          ]
        }
      ]
    },
    {
      "cell_type": "code",
      "source": [
        "#String to Number Conversion\n",
        "string = tf.constant(['1' '2' '3' '4'])\n",
        "numbers = tf.strings.to_number(tf.strings.split(string, \" \"))\n",
        "print(K.eval(string))\n",
        "print(numbers)"
      ],
      "metadata": {
        "colab": {
          "base_uri": "https://localhost:8080/"
        },
        "id": "Q8xRnuQB0nZ8",
        "outputId": "c199ab91-fa32-44a4-e478-22067cff0156"
      },
      "execution_count": null,
      "outputs": [
        {
          "output_type": "stream",
          "name": "stdout",
          "text": [
            "[b'1234']\n",
            "tf.RaggedTensor(values=Tensor(\"StringToNumber_9:0\", shape=(?,), dtype=float32), row_splits=Tensor(\"StringSplit_9/RaggedFromValueRowIds/RowPartitionFromValueRowIds/concat:0\", shape=(2,), dtype=int64))\n"
          ]
        }
      ]
    },
    {
      "cell_type": "markdown",
      "source": [
        "## Sparse Tensors"
      ],
      "metadata": {
        "id": "j1FsYboemMcD"
      }
    },
    {
      "cell_type": "code",
      "source": [
        "sparse_tensor = tf.sparse.SparseTensor(indices=[[0, 0], [1, 1], [2, 2], [3, 3]], values=[1, 2, 3, 4], dense_shape=[4, 4])\n",
        "dense_tensor = tf.sparse.to_dense(sparse_tensor)\n",
        "\n",
        "print('Sparse Tensor -->', sparse_tensor)\n",
        "print('Dense Tensor -->', K.eval(dense_tensor))"
      ],
      "metadata": {
        "colab": {
          "base_uri": "https://localhost:8080/"
        },
        "id": "9YTVcmsXdYYG",
        "outputId": "ff62196d-7940-4681-85bf-ff4e7df471ac"
      },
      "execution_count": null,
      "outputs": [
        {
          "output_type": "stream",
          "name": "stdout",
          "text": [
            "Sparse Tensor --> SparseTensor(indices=Tensor(\"SparseTensor_11/indices:0\", shape=(4, 2), dtype=int64), values=Tensor(\"SparseTensor_11/values:0\", shape=(4,), dtype=int32), dense_shape=Tensor(\"SparseTensor_11/dense_shape:0\", shape=(2,), dtype=int64))\n",
            "Dense Tensor --> [[1 0 0 0]\n",
            " [0 2 0 0]\n",
            " [0 0 3 0]\n",
            " [0 0 0 4]]\n"
          ]
        }
      ]
    },
    {
      "cell_type": "markdown",
      "source": [
        "## Ragged Tensors"
      ],
      "metadata": {
        "id": "IDgHyapXyk92"
      }
    },
    {
      "cell_type": "code",
      "source": [
        "list1 = [\n",
        "    [0, 1, 2, 3],\n",
        "    [4, 5, 6],\n",
        "    [7, 8],\n",
        "    [9]]\n",
        "ragged_tensor = tf.ragged.constant(list1)\n",
        "print(ragged_tensor)"
      ],
      "metadata": {
        "colab": {
          "base_uri": "https://localhost:8080/"
        },
        "id": "tP-Ec6TtdYQQ",
        "outputId": "6cd90b4f-d3b3-460e-b66f-fc15c44d40b6"
      },
      "execution_count": null,
      "outputs": [
        {
          "output_type": "stream",
          "name": "stdout",
          "text": [
            "tf.RaggedTensor(values=Tensor(\"RaggedConstant_20/values:0\", shape=(10,), dtype=int32), row_splits=Tensor(\"RaggedConstant_20/Const:0\", shape=(5,), dtype=int64))\n"
          ]
        }
      ]
    },
    {
      "cell_type": "code",
      "source": [
        "print(ragged_tensor.shape)"
      ],
      "metadata": {
        "colab": {
          "base_uri": "https://localhost:8080/"
        },
        "id": "SBBkyzxY3aFr",
        "outputId": "b0e76cb6-0fde-40a1-eca4-02ce084c0cef"
      },
      "execution_count": null,
      "outputs": [
        {
          "output_type": "stream",
          "name": "stdout",
          "text": [
            "(4, ?)\n"
          ]
        }
      ]
    },
    {
      "cell_type": "markdown",
      "source": [
        "## Named Tensors"
      ],
      "metadata": {
        "id": "xkQVZcF4yqC8"
      }
    },
    {
      "cell_type": "code",
      "source": [
        "torch.zeros(2, 3, names=('N', 'C'))"
      ],
      "metadata": {
        "colab": {
          "base_uri": "https://localhost:8080/"
        },
        "id": "gsM6OVKGyrkK",
        "outputId": "c7f87e5a-9791-4825-8924-10cf20942fa1"
      },
      "execution_count": null,
      "outputs": [
        {
          "output_type": "execute_result",
          "data": {
            "text/plain": [
              "tensor([[0., 0., 0.],\n",
              "        [0., 0., 0.]], names=('N', 'C'))"
            ]
          },
          "metadata": {},
          "execution_count": 104
        }
      ]
    },
    {
      "cell_type": "code",
      "source": [
        "imgs = torch.randn(1, 2, 2, 3 , names=(None, 'C', 'H', 'W'))\n",
        "imgs.names"
      ],
      "metadata": {
        "colab": {
          "base_uri": "https://localhost:8080/"
        },
        "id": "EkLtz95038h3",
        "outputId": "ce5e8dda-8467-4327-a312-919ec5969667"
      },
      "execution_count": null,
      "outputs": [
        {
          "output_type": "execute_result",
          "data": {
            "text/plain": [
              "(None, 'C', 'H', 'W')"
            ]
          },
          "metadata": {},
          "execution_count": 105
        }
      ]
    },
    {
      "cell_type": "markdown",
      "source": [
        "## Linear Search using Tensorflow"
      ],
      "metadata": {
        "id": "bwtUfCshlnJ5"
      }
    },
    {
      "cell_type": "code",
      "source": [
        "import tensorflow.compat.v1 as tf\n",
        "tf.disable_v2_behavior()"
      ],
      "metadata": {
        "id": "50NeoHHqapmV"
      },
      "execution_count": null,
      "outputs": []
    },
    {
      "cell_type": "code",
      "execution_count": null,
      "metadata": {
        "colab": {
          "base_uri": "https://localhost:8080/"
        },
        "id": "Jhhz2TweZsPH",
        "outputId": "f3cca171-d352-4dd9-bb73-3b9980df6137"
      },
      "outputs": [
        {
          "output_type": "stream",
          "name": "stdout",
          "text": [
            "Array : [2, 3, 4, 5]\n",
            "Number to search : 3\n",
            "3 is at index 1.\n"
          ]
        }
      ],
      "source": [
        "def linearSearch(x, array):\n",
        "  val = tf.constant(x)\n",
        "  arr = tf.constant(array)\n",
        "  length = len(array)\n",
        "\n",
        "  def condition(i, _, is_found):\n",
        "    return tf.logical_and(tf.less(i, length), tf.logical_not(is_found))\n",
        "\n",
        "  def body(i, _, is_found):\n",
        "    return tf.cond(tf.equal(arr[i], val), lambda: (i, arr[i], True), lambda: (tf.add(i, 1), -1, False))\n",
        "\n",
        "  graph = tf.while_loop(condition, body, [0, val, False],back_prop=False)\n",
        "  with tf.Session() as sess:\n",
        "    tf.global_variables_initializer().run()\n",
        "    return sess.run(graph)\n",
        "\n",
        "\n",
        "if __name__ == '__main__':\n",
        "    array, x = [2,3,4,5], 3\n",
        "    ix, xx, is_found = linearSearch(x, array)\n",
        "    print('Array :', array)\n",
        "    print('Number to search :', x)\n",
        "    if is_found:\n",
        "        print('{} is at index {}.'.format(xx, ix))\n",
        "    else:\n",
        "        print('Not found.')"
      ]
    },
    {
      "cell_type": "markdown",
      "source": [
        "## Insertion Sort using Tensorflow"
      ],
      "metadata": {
        "id": "xWZcdGy6lxDP"
      }
    },
    {
      "cell_type": "code",
      "source": [
        "def insertionSort(arr):\n",
        "  def outer_loop(i, j, _):\n",
        "    j = i\n",
        "    cond = lambda i, j, array: tf.logical_and(tf.greater(j,0), tf.greater(array[j-1], array[j]))\n",
        "\n",
        "    loop = tf.while_loop(cond, inner_loop, loop_vars=[i, j, array],\n",
        "                shape_invariants=[i.get_shape(), j.get_shape(), tf.TensorShape(length)],\n",
        "                parallel_iterations=1,\n",
        "                back_prop=False)\n",
        "    return tf.add(i, 1), loop[1], loop[2]\n",
        "\n",
        "  def inner_loop(i, j, _):\n",
        "    return i, tf.subtract(j, 1), tf.scatter_nd_update(array, [[j-1],[j]], [array[j],array[j-1]])\n",
        "\n",
        "  length = len(arr)\n",
        "  start = tf.constant(1)\n",
        "  end = tf.constant(length - 1)\n",
        "  array = tf.Variable(arr, trainable=False)\n",
        "\n",
        "\n",
        "  cond = lambda i, j, _: tf.less(i-1, length-1)\n",
        "  graph = tf.while_loop(cond, outer_loop, loop_vars=[start, end, array],\n",
        "          shape_invariants=[start.get_shape(), end.get_shape(), tf.TensorShape(length)],\n",
        "          parallel_iterations=1,\n",
        "          back_prop=False)\n",
        "  with tf.Session() as sess:\n",
        "    tf.global_variables_initializer().run()\n",
        "    return sess.run(graph)[2]\n",
        "\n",
        "with tf.Session() as sess:\n",
        "    x = np.array([3,2,4,1,5])\n",
        "    print(x)\n",
        "    print(insertionSort(x))\n",
        "    y = np.random.rand(10)\n",
        "    print(y)\n",
        "    print(insertionSort(y))\n"
      ],
      "metadata": {
        "colab": {
          "base_uri": "https://localhost:8080/"
        },
        "id": "7Il_Ljc0XNih",
        "outputId": "1dbd256b-7769-4b40-94c5-0c27c96ccb9e"
      },
      "execution_count": null,
      "outputs": [
        {
          "output_type": "stream",
          "name": "stdout",
          "text": [
            "[3 2 4 1 5]\n",
            "[1 2 3 4 5]\n",
            "[0.01028168 0.56530693 0.24985666 0.68379803 0.76608574 0.24603765\n",
            " 0.83205618 0.43248453 0.7621806  0.6460065 ]\n",
            "[0.01028168 0.24603765 0.24985666 0.43248453 0.56530693 0.6460065\n",
            " 0.68379803 0.7621806  0.76608574 0.83205618]\n"
          ]
        }
      ]
    },
    {
      "cell_type": "markdown",
      "source": [
        "## Binary Search using Tensorflow"
      ],
      "metadata": {
        "id": "n8F3zS0El144"
      }
    },
    {
      "cell_type": "code",
      "source": [
        "def binarySearch(arr, x):\n",
        "  array = tf.constant(arr)\n",
        "  val = tf.constant(x)\n",
        "  length = len(arr)\n",
        "  def condition(x, is_found, left, right, mid):\n",
        "    return tf.logical_and(tf.less_equal(left, right), tf.logical_not(is_found))\n",
        "  def body(x, is_found, left, right, mid):\n",
        "      mid = tf.to_int32(tf.divide(tf.add(left, right), 2))\n",
        "      return tf.cond(tf.equal(array[mid],val),\n",
        "                  lambda: (array[mid], True, left, right, mid),\n",
        "                  lambda: tf.cond(tf.less(array[mid],val),\n",
        "                              lambda: (-1, False, tf.add(mid, 1), right, mid),\n",
        "                              lambda: (-1, False, left, tf.subtract(mid, 1), mid)))\n",
        "\n",
        "  loop = tf.while_loop(condition, body, [-1,False,0,length,-1],back_prop=False)\n",
        "  with tf.Session() as sess:\n",
        "    tf.global_variables_initializer().run()\n",
        "    return sess.run(loop)\n",
        "\n",
        "\n",
        "array = sorted([1, 7, 3, 8, 5])\n",
        "x = 8\n",
        "xx, is_found, l, r, m = binarySearch(array, x)\n",
        "\n",
        "print('Array :', array)\n",
        "print('Number to search :', x)\n",
        "if is_found:\n",
        "    print('{} is at index {}.'.format(xx, m))\n",
        "else:\n",
        "    print('Not found.')"
      ],
      "metadata": {
        "colab": {
          "base_uri": "https://localhost:8080/"
        },
        "id": "mlsxBL4ia0Vz",
        "outputId": "29695b0b-ad14-41e8-8bc5-11ba276de2b0"
      },
      "execution_count": null,
      "outputs": [
        {
          "output_type": "stream",
          "name": "stdout",
          "text": [
            "Array : [1, 3, 5, 7, 8]\n",
            "Number to search : 8\n",
            "8 is at index 4.\n"
          ]
        }
      ]
    }
  ]
}