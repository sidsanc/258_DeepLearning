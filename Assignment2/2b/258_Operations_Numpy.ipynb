{
  "nbformat": 4,
  "nbformat_minor": 0,
  "metadata": {
    "colab": {
      "provenance": []
    },
    "kernelspec": {
      "name": "python3",
      "display_name": "Python 3"
    },
    "language_info": {
      "name": "python"
    }
  },
  "cells": [
    {
      "cell_type": "markdown",
      "source": [
        "# Importing Libraries"
      ],
      "metadata": {
        "id": "E0AeDP_b6kIv"
      }
    },
    {
      "cell_type": "code",
      "execution_count": null,
      "metadata": {
        "id": "dQjnqkIqqB9L"
      },
      "outputs": [],
      "source": [
        "import numpy as np\n",
        "from numpy import array"
      ]
    },
    {
      "cell_type": "markdown",
      "source": [
        "# Operations"
      ],
      "metadata": {
        "id": "IfWK9G8h6oq5"
      }
    },
    {
      "cell_type": "markdown",
      "source": [
        "Scalar vector multiplication"
      ],
      "metadata": {
        "id": "GMeao_Zd6sma"
      }
    },
    {
      "cell_type": "code",
      "source": [
        "a = np.array([3])\n",
        "b = np.array([6, 7, 8])\n",
        "mul = np.einsum('i, i -> i', a, b)\n",
        "print('a:',a)\n",
        "print('b:',b)\n",
        "print('product:', mul)"
      ],
      "metadata": {
        "colab": {
          "base_uri": "https://localhost:8080/"
        },
        "id": "xtFaCWo7sxjW",
        "outputId": "1d2a3f55-4cf1-4b27-ceea-47f9c399cd05"
      },
      "execution_count": null,
      "outputs": [
        {
          "output_type": "stream",
          "name": "stdout",
          "text": [
            "[3]\n",
            "[2 4 5]\n",
            "[ 6 12 15]\n"
          ]
        }
      ]
    },
    {
      "cell_type": "markdown",
      "source": [
        "Vector vector multiplication"
      ],
      "metadata": {
        "id": "y0PEQGmZ6xkZ"
      }
    },
    {
      "cell_type": "code",
      "source": [
        "a = np.random.randn(3, 4)\n",
        "b = np.random.randn(4, 2)\n",
        "mul = np.einsum('ij, jk -> ik', a, b)\n",
        "print('a:',a)\n",
        "print('b:',b)\n",
        "print('product:', mul)"
      ],
      "metadata": {
        "colab": {
          "base_uri": "https://localhost:8080/"
        },
        "id": "KR0oA9l5tO0a",
        "outputId": "23f79379-ca0e-4898-c88c-2556e04056fb"
      },
      "execution_count": null,
      "outputs": [
        {
          "output_type": "stream",
          "name": "stdout",
          "text": [
            "a: [[-1.22557348  0.600349    0.80789492 -1.7013035 ]\n",
            " [-0.94210983  0.11330908 -1.29805261 -0.99114757]\n",
            " [ 0.45077518 -0.49490517 -1.29350302 -0.99049762]]\n",
            "b: [[-1.2923583   0.65130103]\n",
            " [ 1.04704306 -0.183355  ]\n",
            " [-0.79421369  1.52104181]\n",
            " [ 0.25430914  0.37747525]]\n",
            "product: [[ 1.13817307 -0.32165227]\n",
            " [ 2.11505621 -2.98289887]\n",
            " [-0.32532487 -1.95702683]]\n"
          ]
        }
      ]
    },
    {
      "cell_type": "markdown",
      "source": [
        "Outer product"
      ],
      "metadata": {
        "id": "UEe5hC7j60oq"
      }
    },
    {
      "cell_type": "code",
      "source": [
        "a = np.arange(1, 4)\n",
        "b = np.arange(3, 6)  \n",
        "product = np.einsum('i,j -> ij', a, b)\n",
        "print('a:',a)\n",
        "print('b:',b)\n",
        "print('product:', product)"
      ],
      "metadata": {
        "colab": {
          "base_uri": "https://localhost:8080/"
        },
        "id": "RXP4fcRjuNi7",
        "outputId": "d8e401db-141e-456a-d481-b4ff334637e4"
      },
      "execution_count": null,
      "outputs": [
        {
          "output_type": "stream",
          "name": "stdout",
          "text": [
            "a: [1 2 3]\n",
            "b: [3 4 5]\n",
            "product: [[ 3  4  5]\n",
            " [ 6  8 10]\n",
            " [ 9 12 15]]\n"
          ]
        }
      ]
    },
    {
      "cell_type": "markdown",
      "source": [
        "Scalar dot product"
      ],
      "metadata": {
        "id": "WREwVI3m64Bs"
      }
    },
    {
      "cell_type": "code",
      "source": [
        "a = np.arange(4).reshape(2, 2)\n",
        "b = np.arange(6).reshape(2, 3)\n",
        "product = np.einsum('ij, jk ->', a, b)\n",
        "print('a:',a)\n",
        "print('b:',b)\n",
        "print('product:', product)"
      ],
      "metadata": {
        "colab": {
          "base_uri": "https://localhost:8080/"
        },
        "id": "jkCFAJy1ulxb",
        "outputId": "f6e425a9-3fcc-40dd-9cc6-e0d1801918a9"
      },
      "execution_count": null,
      "outputs": [
        {
          "output_type": "stream",
          "name": "stdout",
          "text": [
            "a: [[0 1]\n",
            " [2 3]]\n",
            "b: [[0 1 2]\n",
            " [3 4 5]]\n",
            "product: 54\n"
          ]
        }
      ]
    },
    {
      "cell_type": "markdown",
      "source": [
        "Hadamard product"
      ],
      "metadata": {
        "id": "y1xG-a5C7IlV"
      }
    },
    {
      "cell_type": "code",
      "source": [
        "a = np.arange(10).reshape(2, 5)\n",
        "b = np.arange(10, 20).reshape(2, 5)\n",
        "product = np.einsum('ij, ij -> ij', a, b)\n",
        "print('a:',a)\n",
        "print('b:',b)\n",
        "print('product:', product)"
      ],
      "metadata": {
        "colab": {
          "base_uri": "https://localhost:8080/"
        },
        "id": "psiMGjQOvCQ-",
        "outputId": "ab50a37a-7aa4-4293-926c-8cf9594c8fb0"
      },
      "execution_count": null,
      "outputs": [
        {
          "output_type": "stream",
          "name": "stdout",
          "text": [
            "a: [[0 1 2 3 4]\n",
            " [5 6 7 8 9]]\n",
            "b: [[10 11 12 13 14]\n",
            " [15 16 17 18 19]]\n",
            "product: [[  0  11  24  39  56]\n",
            " [ 75  96 119 144 171]]\n"
          ]
        }
      ]
    },
    {
      "cell_type": "markdown",
      "source": [
        "Batch matrix multiplication"
      ],
      "metadata": {
        "id": "QroSnBwq7K9T"
      }
    },
    {
      "cell_type": "code",
      "source": [
        "a = np.random.randn(3, 3, 2)\n",
        "b = np.random.randn(3, 2, 2)\n",
        "batch_mult = np.einsum('bij, bjk -> bik', a, b)\n",
        "print(a)\n",
        "print(b)\n",
        "print(batch_mult)"
      ],
      "metadata": {
        "colab": {
          "base_uri": "https://localhost:8080/"
        },
        "id": "Mpt4m9eHvuJv",
        "outputId": "02e06773-eb7d-4f2b-9548-740081f1aa6d"
      },
      "execution_count": null,
      "outputs": [
        {
          "output_type": "stream",
          "name": "stdout",
          "text": [
            "[[[ 1.86433145  0.18026446]\n",
            "  [ 0.96088557 -0.21301206]\n",
            "  [-0.04643046  0.79170105]]\n",
            "\n",
            " [[-0.58540443  0.90064271]\n",
            "  [-0.47518076  0.17563139]\n",
            "  [ 0.86782953 -0.09761453]]\n",
            "\n",
            " [[ 1.44671589 -0.2932761 ]\n",
            "  [-0.82862753  0.74098226]\n",
            "  [-0.99925666 -1.55405793]]]\n",
            "[[[-0.70076012 -2.32418065]\n",
            "  [ 0.15387008 -1.51448357]]\n",
            "\n",
            " [[-1.63722991 -0.44713199]\n",
            "  [ 0.59479075 -1.31539766]]\n",
            "\n",
            " [[-0.17870871  0.25553315]\n",
            "  [-0.59745724  0.22341117]]]\n",
            "[[[-1.27871183 -4.60605067]\n",
            "  [-0.70612647 -1.91066839]\n",
            "  [ 0.15435572 -1.09110544]]\n",
            "\n",
            " [[ 1.4941356  -0.92295027]\n",
            "  [ 0.88244408 -0.0185566 ]\n",
            "  [-1.47889669 -0.25963242]]\n",
            "\n",
            " [[-0.0833208   0.30416271]\n",
            "  [-0.29462226 -0.04619808]\n",
            "  [ 1.10705902 -0.60253711]]]\n"
          ]
        }
      ]
    },
    {
      "cell_type": "code",
      "source": [
        "a = np.random.randn(1, 3, 5, 7)\n",
        "b = np.random.randn(6, 0, 1, 9, 8)\n",
        "reduction = np.einsum('pqrs, tuqvr -> pstuv', a, b)\n",
        "print(a.shape, b.shape, reduction.shape)"
      ],
      "metadata": {
        "id": "7ryk_vs9wXDr"
      },
      "execution_count": null,
      "outputs": []
    },
    {
      "cell_type": "code",
      "source": [
        "# Transpose\n",
        "\n",
        "a = np.arange(8).reshape(4, 2)\n",
        "transpose = np.einsum('ij -> ji', a)\n",
        "print(a)\n",
        "print(transpose)"
      ],
      "metadata": {
        "colab": {
          "base_uri": "https://localhost:8080/"
        },
        "id": "kefVaa4ZwiwM",
        "outputId": "8bec6827-9e67-463c-a474-c34ba66372df"
      },
      "execution_count": null,
      "outputs": [
        {
          "output_type": "stream",
          "name": "stdout",
          "text": [
            "[[0 1]\n",
            " [2 3]\n",
            " [4 5]\n",
            " [6 7]]\n",
            "[[0 2 4 6]\n",
            " [1 3 5 7]]\n"
          ]
        }
      ]
    },
    {
      "cell_type": "code",
      "source": [
        "# Bilinear transformation\n",
        "\n",
        "a = np.random.randn(2, 3)\n",
        "b = np.random.randn(3, 3, 4)\n",
        "c = np.random.randn(2, 4)\n",
        "bilinear = np.einsum('ik, jkl, il -> ij', a, b, c)\n",
        "print(a)\n",
        "print(b)\n",
        "print(c)\n",
        "print(bilinear)"
      ],
      "metadata": {
        "colab": {
          "base_uri": "https://localhost:8080/"
        },
        "id": "TBDN3S0Owv1r",
        "outputId": "a35a819b-7244-4150-f7fc-8a93d2982611"
      },
      "execution_count": null,
      "outputs": [
        {
          "output_type": "stream",
          "name": "stdout",
          "text": [
            "[[ 0.41640901  1.41800761 -2.22496802]\n",
            " [ 1.64654931  1.74537677  0.79773514]]\n",
            "[[[-1.69932846  1.79055169  0.0305436   1.32495446]\n",
            "  [-0.74703826 -1.50608234 -0.47376777  0.78079651]\n",
            "  [ 1.05611415 -1.29366924 -0.71599135  0.49904965]]\n",
            "\n",
            " [[ 0.64870706  0.842865   -0.74961891  0.62116627]\n",
            "  [ 0.08356685  1.53921174 -1.17898801 -0.55020847]\n",
            "  [-0.92471314 -0.35297612 -0.60085213 -0.68515161]]\n",
            "\n",
            " [[-0.77926431 -1.94745682 -1.04138851 -1.02385752]\n",
            "  [-0.08367966  0.94740998  0.53848212  1.63230154]\n",
            "  [ 1.16414273 -0.21094016 -1.01975626 -0.74647269]]]\n",
            "[[ 1.0992388  -0.09824777  0.26039848 -0.75076202]\n",
            " [-1.53262903  0.11720155  0.2675521  -0.02427426]]\n",
            "[[-4.84011849  1.44131073 -5.42061314]\n",
            " [ 4.45563454 -1.28277791  0.12655951]]\n"
          ]
        }
      ]
    },
    {
      "cell_type": "markdown",
      "source": [
        "### Attention"
      ],
      "metadata": {
        "id": "c3WCOQTY16fw"
      }
    },
    {
      "cell_type": "code",
      "source": [
        "\n",
        "\n",
        "# Parameters\n",
        "# [hidden_dimension]\n",
        "bM = np.random.randn(7)\n",
        "br = np.random.randn(7) \n",
        "w = np.random.randn(7)\n",
        "# [hidden_dimension x hidden_dimension]\n",
        "WY = np.random.randn(7, 7)\n",
        "Wh = np.random.randn(7, 7)\n",
        "Wr = np.random.randn(7, 7)\n",
        "Wt = np.random.randn(7, 7)\n",
        "\n",
        "def attention(Y, ht, rt1):\n",
        "  # [batch_size x hidden_dimension] \n",
        "  tmp = np.einsum('ik, kl -> il', ht, Wh) + np.einsum('ik, kl -> il', rt1, Wr)\n",
        "\n",
        "  tmp_expand = np.expand_dims(tmp, 1)\n",
        "  tmp_tiled = np.tile(tmp_expand, [1, Y.shape[1], 1]) \n",
        "  Mt = np.tanh(np.einsum('ijk, kl -> ijl', Y, WY) + tmp_tiled + bM)\n",
        "  \n",
        "  # [batch_size x sequence_length]\n",
        "  at = np.einsum('ijk, k -> ij', Mt, w)\n",
        "  at = np.exp(at)/np.sum(np.exp(at))\n",
        "  \n",
        "  # [batch_size x hidden_dimension]\n",
        "  rt = np.einsum('ijk, ij -> ik', Y, at) + np.tanh(np.einsum('ij, jk -> ik', rt1, Wt) + br)\n",
        "  \n",
        "  return rt, at\n",
        "\n",
        "# Inputs - [batch_size x sequence_length x hidden_dimension]\n",
        "Y = np.random.randn(3,5,7)\n",
        "# [batch_size x hidden_dimension]\n",
        "ht = np.random.randn(3, 7)\n",
        "rt1 = np.random.randn(3, 7)\n",
        "\n",
        "rt, at = attention(Y, ht, rt1)\n",
        "\n",
        "print(at)"
      ],
      "metadata": {
        "colab": {
          "base_uri": "https://localhost:8080/"
        },
        "id": "l6CrpIkcw4zZ",
        "outputId": "5832d54f-caa1-4b24-fdc1-834cd04c50cf"
      },
      "execution_count": null,
      "outputs": [
        {
          "output_type": "stream",
          "name": "stdout",
          "text": [
            "[[0.00317547 0.00239202 0.00944615 0.00527305 0.00763736]\n",
            " [0.00148212 0.00367837 0.00268406 0.00591719 0.00120265]\n",
            " [0.17022494 0.10438838 0.00399219 0.01083727 0.66766876]]\n"
          ]
        }
      ]
    },
    {
      "cell_type": "markdown",
      "source": [
        "### Treeqn"
      ],
      "metadata": {
        "id": "XXxllW4S19Tq"
      }
    },
    {
      "cell_type": "code",
      "source": [
        "\n",
        "\n",
        "def transition(zl):\n",
        "  # [batch_size x num_actions x hidden_dimension]\n",
        "  return np.expand_dims(zl, 1) + np.tanh(np.einsum('bk, aki -> bai', zl, W) + b)\n",
        "\n",
        "# Inputs - [batch_size x hidden_dimension]\n",
        "zl = np.random.rand(2, 3)\n",
        "# Parameters - [num_actions x hidden_dimension]\n",
        "b = np.random.rand(5, 3)\n",
        "# Actions - [num_actions x hidden_dimension x hidden_dimension]\n",
        "W = np.random.rand(5, 3, 3)\n",
        "\n",
        "transition(zl)"
      ],
      "metadata": {
        "colab": {
          "base_uri": "https://localhost:8080/"
        },
        "id": "tHrBxGoUw5hm",
        "outputId": "cc965082-1ce2-4dd2-cac3-de7868599514"
      },
      "execution_count": null,
      "outputs": [
        {
          "output_type": "execute_result",
          "data": {
            "text/plain": [
              "array([[[1.58886753, 0.93715516, 1.51598914],\n",
              "        [1.48697567, 0.98417538, 1.70563118],\n",
              "        [1.84996775, 1.00643398, 1.45767282],\n",
              "        [1.78632577, 1.02186328, 1.81872681],\n",
              "        [1.73625986, 1.04220048, 1.79487834]],\n",
              "\n",
              "       [[1.41130564, 1.30928501, 0.8278695 ],\n",
              "        [1.25062753, 1.45039391, 0.87459487],\n",
              "        [1.48043893, 1.46835651, 0.43535648],\n",
              "        [1.45864525, 1.38918901, 0.94173694],\n",
              "        [1.39063014, 1.48211152, 0.97430912]]])"
            ]
          },
          "metadata": {},
          "execution_count": 23
        }
      ]
    },
    {
      "cell_type": "code",
      "source": [],
      "metadata": {
        "id": "vOd329uq5xLc"
      },
      "execution_count": null,
      "outputs": []
    }
  ]
}