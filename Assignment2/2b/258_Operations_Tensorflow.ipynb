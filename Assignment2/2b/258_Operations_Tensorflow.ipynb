{
  "nbformat": 4,
  "nbformat_minor": 0,
  "metadata": {
    "colab": {
      "provenance": []
    },
    "kernelspec": {
      "name": "python3",
      "display_name": "Python 3"
    },
    "language_info": {
      "name": "python"
    }
  },
  "cells": [
    {
      "cell_type": "code",
      "execution_count": null,
      "metadata": {
        "id": "dQjnqkIqqB9L"
      },
      "outputs": [],
      "source": [
        "import tensorflow as tf"
      ]
    },
    {
      "cell_type": "code",
      "source": [
        "# Scalar vector multiplication\n",
        "\n",
        "a = tf.random.normal([1])\n",
        "b = tf.random.normal([2, 3])\n",
        "mult = tf.einsum('k, ij -> ij', a, b)\n",
        "print(a)\n",
        "print(b)\n",
        "print(mult)"
      ],
      "metadata": {
        "colab": {
          "base_uri": "https://localhost:8080/"
        },
        "id": "xtFaCWo7sxjW",
        "outputId": "b90f65e3-897a-48cf-dda0-fc8633ce26f7"
      },
      "execution_count": null,
      "outputs": [
        {
          "output_type": "stream",
          "name": "stdout",
          "text": [
            "tf.Tensor([2.4281507], shape=(1,), dtype=float32)\n",
            "tf.Tensor(\n",
            "[[ 0.9201611   0.7869265  -0.1516344 ]\n",
            " [-0.28274438 -0.24008621  1.2965367 ]], shape=(2, 3), dtype=float32)\n",
            "tf.Tensor(\n",
            "[[ 2.23429     1.9107761  -0.36819115]\n",
            " [-0.68654597 -0.5829655   3.1481864 ]], shape=(2, 3), dtype=float32)\n"
          ]
        }
      ]
    },
    {
      "cell_type": "code",
      "source": [
        "# Vector vector multiplication\n",
        "\n",
        "a = tf.random.normal([2, 5])\n",
        "b = tf.random.normal([5, 3])\n",
        "mult = tf.einsum('ij, jk -> ik', a, b)\n",
        "print(a)\n",
        "print(b)\n",
        "print(mult)"
      ],
      "metadata": {
        "colab": {
          "base_uri": "https://localhost:8080/"
        },
        "id": "KR0oA9l5tO0a",
        "outputId": "cd519f46-d612-4331-cf50-aea9d3d3d112"
      },
      "execution_count": null,
      "outputs": [
        {
          "output_type": "stream",
          "name": "stdout",
          "text": [
            "tf.Tensor(\n",
            "[[-0.04595557 -1.0043219   0.17543502  0.39695907 -0.45605093]\n",
            " [ 1.2592007   1.6554294   0.5069472  -0.5516412   0.19223353]], shape=(2, 5), dtype=float32)\n",
            "tf.Tensor(\n",
            "[[ 1.083499   -0.00988905  0.4788915 ]\n",
            " [ 0.02091054 -1.5508705   0.16104497]\n",
            " [ 0.33273518 -0.8711445  -2.8092797 ]\n",
            " [-0.53535753  0.2049706   0.73983634]\n",
            " [-0.08899844  0.15808834 -0.10611595]], shape=(5, 3), dtype=float32)\n",
            "tf.Tensor(\n",
            "[[-0.18434753  1.4144672  -0.33451575]\n",
            " [ 1.8458548  -3.1041136  -0.9830607 ]], shape=(2, 3), dtype=float32)\n"
          ]
        }
      ]
    },
    {
      "cell_type": "code",
      "source": [
        "# Outer product\n",
        "\n",
        "a = tf.range(4)\n",
        "b = tf.range(3, 6)  \n",
        "prod = tf.einsum('i,j -> ij', a, b)\n",
        "print(a)\n",
        "print(b)\n",
        "print(prod)"
      ],
      "metadata": {
        "colab": {
          "base_uri": "https://localhost:8080/"
        },
        "id": "RXP4fcRjuNi7",
        "outputId": "890efbe4-280f-4baf-e94b-09724ad50de8"
      },
      "execution_count": null,
      "outputs": [
        {
          "output_type": "stream",
          "name": "stdout",
          "text": [
            "tf.Tensor([0 1 2 3], shape=(4,), dtype=int32)\n",
            "tf.Tensor([3 4 5], shape=(3,), dtype=int32)\n",
            "tf.Tensor(\n",
            "[[ 0  0  0]\n",
            " [ 3  4  5]\n",
            " [ 6  8 10]\n",
            " [ 9 12 15]], shape=(4, 3), dtype=int32)\n"
          ]
        }
      ]
    },
    {
      "cell_type": "code",
      "source": [
        "# Scalar dot product\n",
        "\n",
        "a = tf.range(9)\n",
        "a = tf.reshape(a, [3, 3])\n",
        "\n",
        "b = tf.range(6)\n",
        "b = tf.reshape(b, [3, 2])\n",
        "\n",
        "prod = tf.einsum('ij, jk ->', a, b)\n",
        "print(a)\n",
        "print(b)\n",
        "print(prod)"
      ],
      "metadata": {
        "colab": {
          "base_uri": "https://localhost:8080/"
        },
        "id": "jkCFAJy1ulxb",
        "outputId": "ef994e01-45e5-4eb4-a9ee-b5a3695f1755"
      },
      "execution_count": null,
      "outputs": [
        {
          "output_type": "stream",
          "name": "stdout",
          "text": [
            "tf.Tensor(\n",
            "[[0 1 2]\n",
            " [3 4 5]\n",
            " [6 7 8]], shape=(3, 3), dtype=int32)\n",
            "tf.Tensor(\n",
            "[[0 1]\n",
            " [2 3]\n",
            " [4 5]], shape=(3, 2), dtype=int32)\n",
            "tf.Tensor(204, shape=(), dtype=int32)\n"
          ]
        }
      ]
    },
    {
      "cell_type": "code",
      "source": [
        "# Hadamard product\n",
        "\n",
        "a = tf.range(8)\n",
        "a = tf.reshape(a, [2, 4])\n",
        "a = tf.([[1, 2, 4], [2, 3, 1], [5, 2, 1]])\n",
        "b = torch.Tensor([[5, 2, 4], [9, 4, 1], [8, 1, 6]])\n",
        "b = tf.range(4, 12)\n",
        "b = tf.reshape(b, [2, 4])\n",
        "\n",
        "prod = tf.einsum('ij, ij -> ij', a, b)\n",
        "print(a)\n",
        "print(b)\n",
        "print(prod)"
      ],
      "metadata": {
        "colab": {
          "base_uri": "https://localhost:8080/"
        },
        "id": "psiMGjQOvCQ-",
        "outputId": "e9fc0c50-fd24-4611-f47c-daa0c0cd52f3"
      },
      "execution_count": null,
      "outputs": [
        {
          "output_type": "stream",
          "name": "stdout",
          "text": [
            "tf.Tensor(\n",
            "[[0 1 2 3]\n",
            " [4 5 6 7]], shape=(2, 4), dtype=int32)\n",
            "tf.Tensor(\n",
            "[[ 4  5  6  7]\n",
            " [ 8  9 10 11]], shape=(2, 4), dtype=int32)\n",
            "tf.Tensor(\n",
            "[[ 0  5 12 21]\n",
            " [32 45 60 77]], shape=(2, 4), dtype=int32)\n"
          ]
        }
      ]
    },
    {
      "cell_type": "code",
      "source": [
        "# Batch matrix multiplication\n",
        "\n",
        "a = tf.random.normal([3, 3, 2])\n",
        "b = tf.random.normal([3, 2, 2])\n",
        "batch_mult = tf.einsum('bij, bjk -> bik', a, b)\n",
        "print(a)\n",
        "print(b)\n",
        "print(batch_mult)"
      ],
      "metadata": {
        "colab": {
          "base_uri": "https://localhost:8080/"
        },
        "id": "Mpt4m9eHvuJv",
        "outputId": "5a7c1c38-964e-4add-ec86-3f508161a8d7"
      },
      "execution_count": null,
      "outputs": [
        {
          "output_type": "stream",
          "name": "stdout",
          "text": [
            "tf.Tensor(\n",
            "[[[ 2.2917955   0.21000162]\n",
            "  [ 0.8124304   0.06777922]\n",
            "  [-0.11358453  0.7659347 ]]\n",
            "\n",
            " [[-0.1675065   0.5600017 ]\n",
            "  [-0.66384035 -0.1080124 ]\n",
            "  [-0.00793505 -0.4128089 ]]\n",
            "\n",
            " [[ 0.29294032 -0.714986  ]\n",
            "  [ 1.2740775   2.499109  ]\n",
            "  [-0.37249446 -1.272966  ]]], shape=(3, 3, 2), dtype=float32)\n",
            "tf.Tensor(\n",
            "[[[-0.6430566  -0.3129209 ]\n",
            "  [ 0.49324626 -0.547294  ]]\n",
            "\n",
            " [[-1.3205546  -0.7890352 ]\n",
            "  [-0.11901931  0.02230156]]\n",
            "\n",
            " [[-0.2517252  -2.472473  ]\n",
            "  [ 1.0076808   0.45598066]]], shape=(3, 2, 2), dtype=float32)\n",
            "tf.Tensor(\n",
            "[[[-1.3701717  -0.83208334]\n",
            "  [-0.48900685 -0.2913216 ]\n",
            "  [ 0.4508357  -0.3836485 ]]\n",
            "\n",
            " [[ 0.15455046  0.14465745]\n",
            "  [ 0.88949305  0.52138454]\n",
            "  [ 0.0596109  -0.00294525]]\n",
            "\n",
            " [[-0.7942182  -1.0503068 ]\n",
            "  [ 2.1975868  -2.0105767 ]\n",
            "  [-1.1889771   0.34053457]]], shape=(3, 3, 2), dtype=float32)\n"
          ]
        }
      ]
    },
    {
      "cell_type": "code",
      "source": [
        "# Tensor reduction\n",
        "\n",
        "a = tf.random.normal([2, 3, 5, 7])\n",
        "b = tf.random.normal([4, 1, 3, 11, 5])\n",
        "reduction = tf.einsum('pqrs, tuqvr -> pstuv', a, b)\n",
        "print(a.shape, b.shape, reduction.shape)"
      ],
      "metadata": {
        "colab": {
          "base_uri": "https://localhost:8080/"
        },
        "id": "7ryk_vs9wXDr",
        "outputId": "8a35e0c4-4b8d-49a6-edac-d968d4d139f7"
      },
      "execution_count": null,
      "outputs": [
        {
          "output_type": "stream",
          "name": "stdout",
          "text": [
            "(2, 3, 5, 7) (4, 1, 3, 11, 5) (2, 7, 4, 1, 11)\n"
          ]
        }
      ]
    },
    {
      "cell_type": "code",
      "source": [
        "# Transpose\n",
        "\n",
        "a = tf.range(8)\n",
        "a = tf.reshape(a, [4, 2])\n",
        "transpose = tf.einsum('ij -> ji', a)\n",
        "print(a)\n",
        "print(transpose)"
      ],
      "metadata": {
        "colab": {
          "base_uri": "https://localhost:8080/"
        },
        "id": "kefVaa4ZwiwM",
        "outputId": "27e53b4c-1426-4667-fbbc-8d72eba93547"
      },
      "execution_count": null,
      "outputs": [
        {
          "output_type": "stream",
          "name": "stdout",
          "text": [
            "tf.Tensor(\n",
            "[[0 1]\n",
            " [2 3]\n",
            " [4 5]\n",
            " [6 7]], shape=(4, 2), dtype=int32)\n",
            "tf.Tensor(\n",
            "[[0 2 4 6]\n",
            " [1 3 5 7]], shape=(2, 4), dtype=int32)\n"
          ]
        }
      ]
    },
    {
      "cell_type": "code",
      "source": [
        "# Bilinear transformation\n",
        "\n",
        "a = tf.random.normal([2, 3])\n",
        "b = tf.random.normal([3, 3, 4])\n",
        "c = tf.random.normal([2, 4])\n",
        "bilinear = tf.einsum('ik, jkl, il -> ij', a, b, c)\n",
        "print(a)\n",
        "print(b)\n",
        "print(c)\n",
        "print(bilinear)"
      ],
      "metadata": {
        "colab": {
          "base_uri": "https://localhost:8080/"
        },
        "id": "TBDN3S0Owv1r",
        "outputId": "fb10d11a-60ea-43a6-a7b0-d886fefd137f"
      },
      "execution_count": null,
      "outputs": [
        {
          "output_type": "stream",
          "name": "stdout",
          "text": [
            "tf.Tensor(\n",
            "[[ 0.3146136  0.4827846  1.1269066]\n",
            " [-1.5365981 -1.0660455  1.1572146]], shape=(2, 3), dtype=float32)\n",
            "tf.Tensor(\n",
            "[[[ 0.14003627  0.01163231 -0.13139397  0.7894577 ]\n",
            "  [-0.2158014   1.813187   -0.5014698  -0.9422409 ]\n",
            "  [ 1.2023556  -0.13701855  0.3905423  -0.9621358 ]]\n",
            "\n",
            " [[ 0.9206127   1.1183867  -0.61091995 -0.4539109 ]\n",
            "  [ 1.5881643  -0.67286307  2.8616853   0.10222552]\n",
            "  [-1.4472909  -0.21255776  0.34756663  0.32714945]]\n",
            "\n",
            " [[-0.13337424 -1.2615469   0.6651735   0.5972824 ]\n",
            "  [ 1.0825644   0.23683508 -2.28232     0.25065213]\n",
            "  [ 0.36147472 -0.3565847  -1.0303156  -0.8182818 ]]], shape=(3, 3, 4), dtype=float32)\n",
            "tf.Tensor(\n",
            "[[ 0.140482    0.39513645 -1.0058335   1.2766947 ]\n",
            " [ 0.55331546 -0.561943   -0.62871015 -0.6802107 ]], shape=(2, 4), dtype=float32)\n",
            "tf.Tensor(\n",
            "[[-1.3372614  -1.4036021   1.137095  ]\n",
            " [ 2.1155162  -1.5282719   0.30341208]], shape=(2, 3), dtype=float32)\n"
          ]
        }
      ]
    },
    {
      "cell_type": "code",
      "source": [
        "# Attention\n",
        "\n",
        "# Parameters\n",
        "# [hidden_dimension]\n",
        "bM = tf.random.normal([7])\n",
        "br = tf.random.normal([7]) \n",
        "w = tf.random.normal([7])\n",
        "# [hidden_dimension x hidden_dimension]\n",
        "WY = tf.random.normal([7, 7])\n",
        "Wh = tf.random.normal([7, 7])\n",
        "Wr = tf.random.normal([7, 7])\n",
        "Wt = tf.random.normal([7, 7])\n",
        "\n",
        "def attention(Y, ht, rt1):\n",
        "  # [batch_size x hidden_dimension] \n",
        "  tmp = tf.einsum('ik, kl -> il', ht, Wh) + tf.einsum('ik, kl -> il', rt1, Wr)\n",
        "\n",
        "  tmp_expanded = tf.expand_dims(tmp, 1)\n",
        "  tmp_tiled = tf.tile(tmp_expanded, [1, Y.shape[1], 1]) \n",
        "  Mt = tf.tanh(tf.einsum('ijk, kl -> ijl', Y, WY) + tmp_tiled + bM)\n",
        "  \n",
        "  # [batch_size x sequence_length]\n",
        "  at = tf.nn.softmax(tf.einsum('ijk, k -> ij', Mt, w)) \n",
        "  \n",
        "  # [batch_size x hidden_dimension]\n",
        "  rt = tf.einsum('ijk, ij -> ik', Y, at) + tf.tanh(tf.einsum('ij, jk -> ik', rt1, Wt) + br)\n",
        "  \n",
        "  return rt, at\n",
        "\n",
        "# Inputs - [batch_size x sequence_length x hidden_dimension]\n",
        "Y = tf.random.normal([3,5,7])\n",
        "# [batch_size x hidden_dimension]\n",
        "ht = tf.random.normal([3, 7])\n",
        "rt1 = tf.random.normal([3, 7])\n",
        "\n",
        "rt, at = attention(Y, ht, rt1)\n",
        "\n",
        "print(at)"
      ],
      "metadata": {
        "colab": {
          "base_uri": "https://localhost:8080/"
        },
        "id": "l6CrpIkcw4zZ",
        "outputId": "8048ed47-320c-40c6-ad47-79e493899e7e"
      },
      "execution_count": null,
      "outputs": [
        {
          "output_type": "stream",
          "name": "stdout",
          "text": [
            "tf.Tensor(\n",
            "[[0.04286945 0.13299473 0.6374267  0.04080512 0.14590405]\n",
            " [0.3995505  0.45393756 0.03856793 0.01970782 0.08823621]\n",
            " [0.26846936 0.0719656  0.0737488  0.31743228 0.268384  ]], shape=(3, 5), dtype=float32)\n"
          ]
        }
      ]
    },
    {
      "cell_type": "code",
      "source": [
        "# Treeqn\n",
        "\n",
        "def transition(zl):\n",
        "  # [batch_size x num_actions x hidden_dimension]\n",
        "  return tf.expand_dims(zl, 1) + tf.tanh(tf.einsum('bk, aki -> bai', zl, W) + b)\n",
        "\n",
        "# Inputs - [batch_size x hidden_dimension]\n",
        "zl = tf.random.normal([2, 3])\n",
        "# Parameters - [num_actions x hidden_dimension]\n",
        "b = tf.random.normal([5, 3])\n",
        "# Actions - [num_actions x hidden_dimension x hidden_dimension]\n",
        "W = tf.random.normal([5, 3, 3])\n",
        "\n",
        "transition(zl)"
      ],
      "metadata": {
        "colab": {
          "base_uri": "https://localhost:8080/"
        },
        "id": "tHrBxGoUw5hm",
        "outputId": "17193d80-a54f-4fff-db50-5d2978be2804"
      },
      "execution_count": null,
      "outputs": [
        {
          "output_type": "execute_result",
          "data": {
            "text/plain": [
              "<tf.Tensor: shape=(2, 5, 3), dtype=float32, numpy=\n",
              "array([[[-1.0403477 , -0.17211628, -0.93623567],\n",
              "        [-1.329174  , -0.2081781 , -2.7835898 ],\n",
              "        [-0.87566197, -0.44945782, -2.7821753 ],\n",
              "        [-1.7981579 , -2.1150217 , -0.94191855],\n",
              "        [ 0.1530087 , -0.28926474, -2.9333048 ]],\n",
              "\n",
              "       [[ 0.78875744, -1.0552517 , -0.23725814],\n",
              "        [-0.8185021 , -1.3224752 , -0.14671803],\n",
              "        [ 1.0521754 , -0.94115245,  0.9765916 ],\n",
              "        [ 0.28786626, -0.73542947,  1.185014  ],\n",
              "        [ 0.9353899 , -1.3044728 ,  0.02783903]]], dtype=float32)>"
            ]
          },
          "metadata": {},
          "execution_count": 30
        }
      ]
    },
    {
      "cell_type": "code",
      "source": [],
      "metadata": {
        "id": "vOd329uq5xLc"
      },
      "execution_count": null,
      "outputs": []
    }
  ]
}